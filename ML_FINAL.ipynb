{
 "cells": [
  {
   "cell_type": "markdown",
   "id": "895280ab-4649-43ce-90cc-c64ac2265264",
   "metadata": {
    "tags": []
   },
   "source": [
    "*@Author Mehmet Halis Çiçek / 180315037*"
   ]
  },
  {
   "cell_type": "code",
   "execution_count": null,
   "id": "1e825938-83fb-4223-97c5-2ac5eaf4f84f",
   "metadata": {
    "vscode": {
     "languageId": "dotenv"
    }
   },
   "outputs": [],
   "source": [
    "import pandas as pd\n",
    "import numpy as np\n",
    "from sklearn.compose import ColumnTransformer\n",
    "import matplotlib.pyplot as plt\n",
    "from sklearn.utils import shuffle"
   ]
  },
  {
   "cell_type": "code",
   "execution_count": null,
   "id": "302c1c33-057c-41ad-99f7-578521b05166",
   "metadata": {
    "vscode": {
     "languageId": "dotenv"
    }
   },
   "outputs": [],
   "source": [
    "# READ DATA SET \n",
    "data_set = pd.read_csv(\"music_genre.csv\", sep = r',', skipinitialspace = True)\n",
    "data_set.head()"
   ]
  },
  {
   "cell_type": "code",
   "execution_count": null,
   "id": "59e7154d-da5c-4af8-aee8-a657591c4f88",
   "metadata": {
    "vscode": {
     "languageId": "dotenv"
    }
   },
   "outputs": [],
   "source": [
    "data_set.describe().T"
   ]
  },
  {
   "cell_type": "code",
   "execution_count": null,
   "id": "2e1f15ad-8b7e-44d5-b53e-f229f0e74c36",
   "metadata": {
    "vscode": {
     "languageId": "dotenv"
    }
   },
   "outputs": [],
   "source": [
    "#Features\n",
    "data_set.columns"
   ]
  },
  {
   "cell_type": "code",
   "execution_count": null,
   "id": "9583ae01-02db-45a3-8226-e360d4a66a6d",
   "metadata": {
    "vscode": {
     "languageId": "dotenv"
    }
   },
   "outputs": [],
   "source": [
    "#Check type of features\n",
    "data_set.dtypes"
   ]
  },
  {
   "cell_type": "code",
   "execution_count": null,
   "id": "17253b2c-1d06-47c8-b4a6-8a5754f5751c",
   "metadata": {
    "tags": [],
    "vscode": {
     "languageId": "dotenv"
    }
   },
   "outputs": [],
   "source": [
    "#Data graphs of features which define data\n",
    "\n",
    "bar_music_genre=data_set['music_genre'].value_counts().plot.barh();\n",
    "bar_music_genre.set_title('Music Genre')"
   ]
  },
  {
   "cell_type": "code",
   "execution_count": null,
   "id": "6601c300-c217-4e05-9aec-02bb835724c2",
   "metadata": {
    "vscode": {
     "languageId": "dotenv"
    }
   },
   "outputs": [],
   "source": [
    "bar_mode=data_set['mode'].value_counts().plot.barh();\n",
    "bar_mode.set_title('Mode')"
   ]
  },
  {
   "cell_type": "code",
   "execution_count": null,
   "id": "1d521a56-5ea1-4a2d-9f08-0787401b800b",
   "metadata": {
    "vscode": {
     "languageId": "dotenv"
    }
   },
   "outputs": [],
   "source": [
    "import seaborn as sns\n",
    "\n",
    "hist_popularity = sns.histplot(data_set.popularity,kde=True)\n",
    "hist_popularity.set_title('Histogram of Popularity')"
   ]
  },
  {
   "cell_type": "code",
   "execution_count": null,
   "id": "6cfcf5b6-b378-41e1-9aa3-664b4c9d0caf",
   "metadata": {
    "vscode": {
     "languageId": "dotenv"
    }
   },
   "outputs": [],
   "source": [
    "dist_energy = sns.distplot(data_set.energy,kde=True)\n",
    "dist_energy.set_title('Distribution of Energy')"
   ]
  },
  {
   "cell_type": "code",
   "execution_count": null,
   "id": "eddf8532-86de-4b1e-9d63-d13b1a7b0b96",
   "metadata": {
    "vscode": {
     "languageId": "dotenv"
    }
   },
   "outputs": [],
   "source": [
    "sns.catplot(x='energy',y='popularity',hue='music_genre',kind='point',data=data_set)"
   ]
  },
  {
   "cell_type": "code",
   "execution_count": null,
   "id": "61254567-674b-47e1-b818-6a3d8f0d30ff",
   "metadata": {
    "vscode": {
     "languageId": "dotenv"
    }
   },
   "outputs": [],
   "source": []
  },
  {
   "cell_type": "code",
   "execution_count": null,
   "id": "3db964bb-8c3e-4037-b08f-523ca0a517d2",
   "metadata": {
    "vscode": {
     "languageId": "dotenv"
    }
   },
   "outputs": [],
   "source": [
    "#Check is there any null value\n",
    "data_set.isnull().sum()"
   ]
  },
  {
   "cell_type": "code",
   "execution_count": null,
   "id": "ece6691c-8ec9-4ae1-8f34-1dd9acfa17a2",
   "metadata": {
    "vscode": {
     "languageId": "dotenv"
    }
   },
   "outputs": [],
   "source": [
    "# Remove row which contains null value\n",
    "data_set = data_set.dropna(how='any',axis=0)\n",
    "data_set.isnull().sum()"
   ]
  },
  {
   "cell_type": "code",
   "execution_count": null,
   "id": "0e5b477f-5125-4b1c-8b5e-91f9505f049a",
   "metadata": {
    "vscode": {
     "languageId": "dotenv"
    }
   },
   "outputs": [],
   "source": [
    "#Drop track_name column\n",
    "del data_set[\"track_name\"]"
   ]
  },
  {
   "cell_type": "code",
   "execution_count": null,
   "id": "0f6ecfbf-2567-47e0-bd25-e1675c70661a",
   "metadata": {
    "tags": [],
    "vscode": {
     "languageId": "dotenv"
    }
   },
   "outputs": [],
   "source": [
    "# Data Imputation and Interpolation\n",
    "data_set['tempo'] = data_set['tempo'].str.replace('?','nan')\n",
    "data_set[\"tempo\"] = data_set[\"tempo\"].astype(float)\n",
    "data_set['tempo'] = data_set['tempo'].interpolate()"
   ]
  },
  {
   "cell_type": "code",
   "execution_count": null,
   "id": "bb79f1b1-9b6a-4b5a-9968-0ff655116558",
   "metadata": {
    "vscode": {
     "languageId": "dotenv"
    }
   },
   "outputs": [],
   "source": [
    "#Encoding\n",
    "from sklearn import preprocessing\n",
    "converter = preprocessing.LabelEncoder()\n",
    "\n",
    "data_set[\"obtained_date\"] = converter.fit_transform(data_set[\"obtained_date\"])\n",
    "data_set[\"music_genre\"] = converter.fit_transform(data_set[\"music_genre\"])"
   ]
  },
  {
   "cell_type": "code",
   "execution_count": null,
   "id": "58255be0-d96f-4fb3-adbb-e9a5974d1eba",
   "metadata": {
    "vscode": {
     "languageId": "dotenv"
    }
   },
   "outputs": [],
   "source": [
    "#One hot encoding for categorical variables\n",
    "data_set=pd.concat([data_set,pd.get_dummies(data_set['key'],prefix='key')],axis=1).drop(['key'],axis=1)\n",
    "data_set=pd.concat([data_set,pd.get_dummies(data_set['mode'],prefix='mode')],axis=1).drop(['mode'],axis=1)\n",
    "data_set=pd.concat([data_set,pd.get_dummies(data_set['artist_name'],prefix='artist_name')],axis=1).drop(['artist_name'],axis=1)"
   ]
  },
  {
   "cell_type": "code",
   "execution_count": null,
   "id": "fe8c47dc-8ad1-4671-9f98-e4abf3d81929",
   "metadata": {
    "vscode": {
     "languageId": "dotenv"
    }
   },
   "outputs": [],
   "source": [
    "# Review data set\n",
    "data_set.info()"
   ]
  },
  {
   "cell_type": "code",
   "execution_count": null,
   "id": "6328602e-292b-4693-8775-705114e569d0",
   "metadata": {
    "vscode": {
     "languageId": "dotenv"
    }
   },
   "outputs": [],
   "source": [
    "data_set.head()"
   ]
  },
  {
   "cell_type": "code",
   "execution_count": null,
   "id": "a0ce59e0-425b-4047-961c-1c9188d63f14",
   "metadata": {
    "vscode": {
     "languageId": "dotenv"
    }
   },
   "outputs": [],
   "source": [
    "data_set.tail()\n",
    "print(data_set[\"music_genre\"])"
   ]
  },
  {
   "cell_type": "code",
   "execution_count": null,
   "id": "a16ce242-2fa2-47df-962c-c42243f0622f",
   "metadata": {
    "vscode": {
     "languageId": "dotenv"
    }
   },
   "outputs": [],
   "source": [
    "# Train and test split\n",
    "from sklearn.model_selection import train_test_split\n",
    "\n",
    "X = data_set.drop([\"music_genre\"], axis = 1).values\n",
    "Y = data_set[\"music_genre\"].values\n",
    "\n",
    "X_train, X_test, Y_train, Y_test = train_test_split(X, Y, random_state = 1, test_size = 0.3)"
   ]
  },
  {
   "cell_type": "code",
   "execution_count": null,
   "id": "ced97f2d-344d-4ec1-8a86-4941d2b8abfc",
   "metadata": {
    "vscode": {
     "languageId": "dotenv"
    }
   },
   "outputs": [],
   "source": [
    "# Scaling data - Standardize features by removing the mean and scaling to unit variance\n",
    "from sklearn.preprocessing import StandardScaler\n",
    "\n",
    "scaler = StandardScaler()\n",
    "scaler.fit(X_train)\n",
    "\n",
    "X_train = scaler.transform(X_train)\n",
    "X_test = scaler.transform(X_test)"
   ]
  },
  {
   "cell_type": "markdown",
   "id": "1c5c5cc0-8bfe-4ecf-a1f5-d492d56b3951",
   "metadata": {
    "tags": []
   },
   "source": [
    "### ***--> Support Vector Machine (SVM) Model***"
   ]
  },
  {
   "cell_type": "code",
   "execution_count": null,
   "id": "7385cbf8-0af3-434f-a94a-8e0d182777f2",
   "metadata": {
    "vscode": {
     "languageId": "dotenv"
    }
   },
   "outputs": [],
   "source": [
    "from sklearn.svm import SVC\n",
    "from sklearn.metrics import accuracy_score\n",
    "clf = SVC(kernel='linear')\n",
    " \n",
    "clf.fit(X_train[:5000], Y_train[:5000])\n",
    "clf_predict=clf.predict(X_test[:5000])\n",
    "print('Accuracy : ', accuracy_score(Y_test[:5000], clf_predict))"
   ]
  },
  {
   "cell_type": "code",
   "execution_count": null,
   "id": "ba73dfb1-781b-40aa-907e-73bc83ef453d",
   "metadata": {
    "tags": [],
    "vscode": {
     "languageId": "dotenv"
    }
   },
   "outputs": [],
   "source": [
    "\"\"\"import pandas as pd\n",
    "import numpy as np\n",
    "from sklearn import preprocessing\n",
    "\n",
    "from sklearn import svm, datasets\n",
    "from sklearn.metrics import accuracy_score\n",
    "from sklearn.metrics import f1_score\n",
    "\n",
    "print(\"Training the model...\")\n",
    "\n",
    "rbf = svm.SVC(kernel='rbf', gamma=0.5, C=0.1).fit(X_train, Y_train)\n",
    "poly = svm.SVC(kernel='poly', degree=3, C=1).fit(X_train, Y_train)\n",
    "\n",
    "poly_pred = poly.predict(X_test)\n",
    "rbf_pred = rbf.predict(X_test)\n",
    "\n",
    "poly_accuracy = accuracy_score(y_test, poly_pred)\n",
    "poly_f1 = f1_score(y_test, poly_pred, average='weighted')\n",
    "print('Accuracy (Polynomial Kernel): ', \"%.2f\" % (poly_accuracy*100))\n",
    "print('F1 (Polynomial Kernel): ', \"%.2f\" % (poly_f1*100))\n",
    "\n",
    "rbf_accuracy = accuracy_score(Y_test, rbf_pred)\n",
    "rbf_f1 = f1_score(Y_test, rbf_pred, average='weighted')\n",
    "print('Accuracy (RBF Kernel): ', \"%.2f\" % (rbf_accuracy*100))\n",
    "print('F1 (RBF Kernel): ', \"%.2f\" % (rbf_f1*100))\"\"\"\""
   ]
  },
  {
   "cell_type": "markdown",
   "id": "cb13763b-9565-4016-9c42-06b6c7a82f9a",
   "metadata": {},
   "source": [
    "### ***--> Logistic Regression Model***"
   ]
  },
  {
   "cell_type": "code",
   "execution_count": null,
   "id": "fae911d8-22d3-4fa2-91fe-7d4cf9e55e29",
   "metadata": {
    "vscode": {
     "languageId": "dotenv"
    }
   },
   "outputs": [],
   "source": [
    "from sklearn.linear_model import LogisticRegression\n",
    "from sklearn.metrics import accuracy_score\n",
    "from sklearn.metrics import confusion_matrix\n",
    "\n",
    "classifier = LogisticRegression(random_state = 0)\n",
    "print('Training...')\n",
    "classifier.fit(X_train, Y_train)\n",
    "\n",
    "Y_pred = classifier.predict(X_test)\n",
    "\n",
    "confusion_m = confusion_matrix(Y_test, Y_pred)\n",
    " \n",
    "print (\"Confusion Matrix : \\n\", confusion_m)\n",
    "print (\"Accuracy : \", accuracy_score(Y_test, Y_pred))"
   ]
  },
  {
   "cell_type": "markdown",
   "id": "0afd7304-7e3b-4556-abb2-eea60a7b6c52",
   "metadata": {},
   "source": [
    " ### ***--> K-Nearest Neighbors Model***"
   ]
  },
  {
   "cell_type": "code",
   "execution_count": null,
   "id": "6e796545-c7d2-485f-af28-1f20de90d6d4",
   "metadata": {
    "vscode": {
     "languageId": "dotenv"
    }
   },
   "outputs": [],
   "source": [
    "from sklearn.neighbors import KNeighborsClassifier\n",
    "\n",
    "knn = KNeighborsClassifier(n_neighbors=5)\n",
    " \n",
    "knn.fit(X_train, Y_train)\n",
    "print('Training...') \n",
    "print(knn.predict(X_test))\n",
    "\n",
    "neighbors = np.arange(1, 11)\n",
    "train_accuracy = np.empty(len(neighbors))\n",
    "test_accuracy = np.empty(len(neighbors))\n",
    "\n",
    "for i, k in enumerate(neighbors):\n",
    "    knn = KNeighborsClassifier(n_neighbors=k)\n",
    "    knn.fit(X_train, Y_train)\n",
    "     \n",
    "    # Compute training and test data accuracy\n",
    "    train_accuracy[i] = knn.score(X_train, Y_train)\n",
    "    test_accuracy[i] = knn.score(X_test, Y_test)\n",
    "\n",
    "plt.plot(neighbors, test_accuracy, label = 'Testing dataset Accuracy')\n",
    "plt.plot(neighbors, train_accuracy, label = 'Training dataset Accuracy')\n",
    " \n",
    "plt.legend()\n",
    "plt.xlabel('n_neighbors')\n",
    "plt.ylabel('Accuracy')\n",
    "plt.show()\n",
    "\n",
    "classifier = KNeighborsClassifier(n_neighbors = 10, metric = 'minkowski', p = 2)\n",
    "classifier.fit(X_train, Y_train)\n",
    "Y_pred = classifier.predict(X_test)\n",
    "\n",
    "#creatin confussion matrix\n",
    "from sklearn.metrics import confusion_matrix, accuracy_score\n",
    "cm = confusion_matrix(Y_test, Y_pred)"
   ]
  },
  {
   "cell_type": "code",
   "execution_count": null,
   "id": "ac38788b-0f1c-4d19-89ad-ee62f3d9287f",
   "metadata": {
    "vscode": {
     "languageId": "dotenv"
    }
   },
   "outputs": [],
   "source": [
    "print('Accurancy: ', accuracy_score(Y_test, Y_pred)*100, 'percent')"
   ]
  },
  {
   "cell_type": "code",
   "execution_count": null,
   "id": "ede8e50e-daef-4e22-8227-0c4c80f84ce4",
   "metadata": {
    "vscode": {
     "languageId": "dotenv"
    }
   },
   "outputs": [],
   "source": []
  }
 ],
 "metadata": {
  "kernelspec": {
   "display_name": "Python 3",
   "language": "python",
   "name": "python3"
  },
  "language_info": {
   "codemirror_mode": {
    "name": "ipython",
    "version": 3
   },
   "file_extension": ".py",
   "mimetype": "text/x-python",
   "name": "python",
   "nbconvert_exporter": "python",
   "pygments_lexer": "ipython3",
   "version": "3.11.0"
  },
  "vscode": {
   "interpreter": {
    "hash": "aee8b7b246df8f9039afb4144a1f6fd8d2ca17a180786b69acc140d282b71a49"
   }
  }
 },
 "nbformat": 4,
 "nbformat_minor": 5
}
